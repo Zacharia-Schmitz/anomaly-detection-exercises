{
 "cells": [
  {
   "cell_type": "markdown",
   "metadata": {},
   "source": [
    "# Time Series in Anomaly Detection"
   ]
  },
  {
   "cell_type": "markdown",
   "metadata": {},
   "source": [
    "## Exercise"
   ]
  },
  {
   "cell_type": "markdown",
   "metadata": {},
   "source": [
    "### Imports"
   ]
  },
  {
   "cell_type": "code",
   "execution_count": null,
   "metadata": {},
   "outputs": [],
   "source": [
    "import warnings\n",
    "warnings.filterwarnings(\"ignore\")\n",
    "import matplotlib.pyplot as plt\n",
    "\n",
    "import numpy as np\n",
    "import pandas as pd\n",
    "\n",
    "# from matplotlib import style\n",
    "import seaborn as sns\n",
    "%matplotlib inline\n",
    "\n",
    "# pd.plotting.register_matplotlib_converters()"
   ]
  },
  {
   "cell_type": "markdown",
   "metadata": {},
   "source": [
    "### Acquire"
   ]
  },
  {
   "cell_type": "code",
   "execution_count": null,
   "metadata": {},
   "outputs": [],
   "source": [
    "colnames = ['date', 'endpoint', 'user_id', 'cohort_id', 'source_ip']\n",
    "df = pd.read_csv(\"anonymized-curriculum-access.txt\", \n",
    "                 sep=\"\\s\", \n",
    "                 header=None, \n",
    "                 names = colnames, \n",
    "                 usecols=[0, 2, 3, 4, 5])\n",
    "df.head()\n"
   ]
  },
  {
   "cell_type": "markdown",
   "metadata": {},
   "source": [
    "### Prepare"
   ]
  },
  {
   "cell_type": "code",
   "execution_count": null,
   "metadata": {},
   "outputs": [],
   "source": [
    "df.date = pd.to_datetime(df.date)\n",
    "df = df.set_index(df.date)\n",
    "pages = df['endpoint'].resample('d').count()\n",
    "pages.head()"
   ]
  },
  {
   "cell_type": "markdown",
   "metadata": {},
   "source": [
    "#### EMA"
   ]
  },
  {
   "cell_type": "code",
   "execution_count": null,
   "metadata": {},
   "outputs": [],
   "source": [
    "# 7 day EMA\n",
    "ema_7d = pages.ewm(span=7).mean()\n",
    "ema_7d.head()"
   ]
  },
  {
   "cell_type": "code",
   "execution_count": null,
   "metadata": {},
   "outputs": [],
   "source": [
    "# 14 days EMA\n",
    "ema_14d = pages.ewm(span=14).mean()\n",
    "ema_14d.head()"
   ]
  },
  {
   "cell_type": "code",
   "execution_count": null,
   "metadata": {},
   "outputs": [],
   "source": [
    "# 30 days EMA\n",
    "ema_30d = pages.ewm(span=30).mean()\n",
    "ema_30d.head()"
   ]
  },
  {
   "cell_type": "code",
   "execution_count": null,
   "metadata": {},
   "outputs": [],
   "source": [
    "# 90 days EMA\n",
    "ema_90d = pages.ewm(span=90).mean()\n",
    "ema_90d.head()"
   ]
  },
  {
   "cell_type": "code",
   "execution_count": null,
   "metadata": {},
   "outputs": [],
   "source": [
    "fig, ax = plt.subplots(figsize=(12,6))\n",
    "\n",
    "ax.plot(pages.index, pages, label='Daily', alpha=.5)\n",
    "\n",
    "ax.plot(pages.index, ema_7d, label = '7-day EMA')\n",
    "ax.plot(pages.index, ema_14d, label = '14-day EMA')\n",
    "ax.plot(pages.index, ema_30d, label = '30-day EMA')\n",
    "ax.plot(pages.index, ema_90d, label = '30-day EMA')\n",
    "\n",
    "ax.legend(loc='best')\n",
    "ax.set_ylabel('Number of pages')\n",
    "\n",
    "plt.show()"
   ]
  },
  {
   "cell_type": "markdown",
   "metadata": {},
   "source": [
    "Bollinger Bands\n",
    "\n",
    "- a volatility indicator and commonly used in stock market trading.\n",
    "\n",
    "- Made up of 3 lines, the Upper Band (UB), the Lower Band (LB) and the Midband."
   ]
  },
  {
   "cell_type": "markdown",
   "metadata": {},
   "source": [
    "Midband\n",
    "\n",
    "- The Exponential Moving Average\n",
    "\n",
    "midband = train.ewm(span=30).mean()"
   ]
  },
  {
   "cell_type": "markdown",
   "metadata": {},
   "source": [
    "Upper & Lower Band\n",
    "\n",
    "- UB/LB = Midband +/- stdev * K\n",
    "\n",
    "- stdev = train.ewm(span=30).std()\n",
    "\n",
    "- K = the number of standard deviations to go up and down from the EMA"
   ]
  },
  {
   "cell_type": "markdown",
   "metadata": {},
   "source": [
    "%b, Percent Bandwidth\n",
    "\n",
    "- Shows where the last value sits in relation to the bands\n",
    "\n",
    "- %b = (last−LB) / (UB−LB)\n",
    "\n",
    "- %b > 1 => point lies above UB\n",
    "\n",
    "- %b < 0 => point lies below LB\n",
    "\n",
    "- %b == .5 => point lies on the midband."
   ]
  },
  {
   "cell_type": "markdown",
   "metadata": {},
   "source": [
    "Bandwidth\n",
    "\n",
    "- The width of the bands \n",
    "\n",
    "- (UB - LB) / Midband"
   ]
  },
  {
   "cell_type": "code",
   "execution_count": null,
   "metadata": {},
   "outputs": [],
   "source": [
    "# set the window span\n",
    "span = 30\n",
    "\n",
    "# compute midband\n",
    "midband = pages.ewm(span=span).mean()\n",
    "\n",
    "midband.head()"
   ]
  },
  {
   "cell_type": "code",
   "execution_count": null,
   "metadata": {},
   "outputs": [],
   "source": [
    "# compute exponential stdev\n",
    "stdev = pages.ewm(span=span).std()\n",
    "\n",
    "stdev.head()"
   ]
  },
  {
   "cell_type": "code",
   "execution_count": null,
   "metadata": {},
   "outputs": [],
   "source": [
    "# compute upper and lower bands\n",
    "ub = midband + stdev*3\n",
    "lb = midband - stdev*3\n",
    "ub"
   ]
  },
  {
   "cell_type": "code",
   "execution_count": null,
   "metadata": {},
   "outputs": [],
   "source": [
    "# concatenate ub and lb together into one df, bb\n",
    "bb = pd.concat([ub, lb], axis=1)\n",
    "\n",
    "bb.columns = ['ub', 'lb']\n",
    "bb.head()"
   ]
  },
  {
   "cell_type": "code",
   "execution_count": null,
   "metadata": {},
   "outputs": [],
   "source": [
    "my_df = pd.concat([pages, midband, bb], axis=1)\n",
    "my_df.columns = ['pages', 'midband', 'ub', 'lb']\n",
    "my_df.head()"
   ]
  },
  {
   "cell_type": "code",
   "execution_count": null,
   "metadata": {},
   "outputs": [],
   "source": [
    "fig, ax = plt.subplots(figsize=(12,8))\n",
    "\n",
    "ax.plot(my_df.index, my_df.pages, label='Number of Pages')\n",
    "\n",
    "ax.plot(my_df.index, my_df.midband, label = '30-day EMA/midband')\n",
    "ax.plot(my_df.index, my_df.ub, label = 'Upper Band')\n",
    "ax.plot(my_df.index, my_df.lb, label = 'Lower Band')\n",
    "\n",
    "ax.legend(loc='best')\n",
    "ax.set_ylabel('Number of pages')\n",
    "\n",
    "plt.show()"
   ]
  },
  {
   "cell_type": "code",
   "execution_count": null,
   "metadata": {},
   "outputs": [],
   "source": [
    "# get the last measure of gb\n",
    "last_measure = my_df.iloc[-1].pages\n",
    "last_measure"
   ]
  },
  {
   "cell_type": "code",
   "execution_count": null,
   "metadata": {},
   "outputs": [],
   "source": [
    "# get the last measure of gb\n",
    "last_measure = my_df.iloc[-1].pages\n",
    "last_measure"
   ]
  },
  {
   "cell_type": "code",
   "execution_count": null,
   "metadata": {},
   "outputs": [],
   "source": [
    "# get the upper band value on the last date\n",
    "last_ub = my_df.iloc[-1].ub\n",
    "last_ub"
   ]
  },
  {
   "cell_type": "code",
   "execution_count": null,
   "metadata": {},
   "outputs": [],
   "source": [
    "# compute %b\n",
    "last_pct_b = (last_measure - last_lb)/(last_ub - last_lb)\n",
    "\n",
    "print('%b for last datapoint: ', round(last_pct_b, 2))"
   ]
  },
  {
   "cell_type": "code",
   "execution_count": null,
   "metadata": {},
   "outputs": [],
   "source": [
    "my_df.tail(3)"
   ]
  },
  {
   "cell_type": "code",
   "execution_count": null,
   "metadata": {},
   "outputs": [],
   "source": [
    "my_df['pct_b'] = (my_df['pages'] - my_df['lb'])/(my_df['ub'] - my_df['lb'])\n",
    "\n",
    "my_df.head()"
   ]
  },
  {
   "cell_type": "code",
   "execution_count": null,
   "metadata": {},
   "outputs": [],
   "source": [
    "my_df[my_df['pct_b']>1]"
   ]
  },
  {
   "cell_type": "code",
   "execution_count": null,
   "metadata": {},
   "outputs": [],
   "source": [
    "def acquire(file_name, column_names):\n",
    "    return pd.read_csv(file_name, sep=\"\\s\", header=None, names=column_names, usecols=[0, 2, 3, 4, 5])\n",
    "\n",
    "def prep(df, user):\n",
    "    df = df[df.user_id == user]\n",
    "    df.date = pd.to_datetime(df.date)\n",
    "    df = df.set_index(df.date)\n",
    "    pages = df['endpoint'].resample('d').count()\n",
    "    return pages\n",
    "\n",
    "def compute_pct_b(pages, span, weight, user):\n",
    "    midband = pages.ewm(span=span).mean()\n",
    "    stdev = pages.ewm(span=span).std()\n",
    "    ub = midband + stdev*weight\n",
    "    lb = midband - stdev*weight\n",
    "    bb = pd.concat([ub, lb], axis=1)\n",
    "    my_df = pd.concat([pages, midband, bb], axis=1)\n",
    "    my_df.columns = ['pages', 'midband', 'ub', 'lb']\n",
    "    my_df['pct_b'] = (my_df['pages'] - my_df['lb'])/(my_df['ub'] - my_df['lb'])\n",
    "    my_df['user_id'] = user\n",
    "    return my_df\n",
    "\n",
    "def plt_bands(my_df, user):\n",
    "    fig, ax = plt.subplots(figsize=(12,8))\n",
    "    ax.plot(my_df.index, my_df.pages, label='Number of Pages, User: '+str(user))\n",
    "    ax.plot(my_df.index, my_df.midband, label = 'EMA/midband')\n",
    "    ax.plot(my_df.index, my_df.ub, label = 'Upper Band')\n",
    "    ax.plot(my_df.index, my_df.lb, label = 'Lower Band')\n",
    "    ax.legend(loc='best')\n",
    "    ax.set_ylabel('Number of Pages')\n",
    "    plt.show()\n",
    "\n",
    "def find_anomalies(df, user, span, weight):\n",
    "    pages = prep(df, user)\n",
    "    my_df = compute_pct_b(pages, span, weight, user)\n",
    "    # plt_bands(my_df, user)\n",
    "    return my_df[my_df.pct_b>1]\n"
   ]
  },
  {
   "cell_type": "code",
   "execution_count": null,
   "metadata": {},
   "outputs": [],
   "source": [
    "file_name = \"anonymized-curriculum-access.txt\"\n",
    "column_names = ['date', 'endpoint', 'user_id', 'cohort_id', 'source_ip']\n",
    "df = acquire(file_name, column_names)\n",
    "df.head()\n"
   ]
  },
  {
   "cell_type": "code",
   "execution_count": null,
   "metadata": {},
   "outputs": [],
   "source": [
    "span = 30\n",
    "weight = 3.5\n",
    "\n",
    "anomalies = pd.DataFrame()\n",
    "for u in list(df.user_id.unique()):\n",
    "    user_df = find_anomalies(df, u, span, weight)\n",
    "    anomalies = pd.concat([anomalies, user_df], axis=0)\n"
   ]
  },
  {
   "cell_type": "markdown",
   "metadata": {},
   "source": [
    "## Notes"
   ]
  },
  {
   "cell_type": "markdown",
   "metadata": {},
   "source": [
    "### Things I missed\n",
    "\n",
    "- everything before bollanger band"
   ]
  },
  {
   "cell_type": "markdown",
   "metadata": {},
   "source": []
  }
 ],
 "metadata": {
  "kernelspec": {
   "display_name": "base",
   "language": "python",
   "name": "python3"
  },
  "language_info": {
   "name": "python",
   "version": "3.11.4"
  }
 },
 "nbformat": 4,
 "nbformat_minor": 2
}
